{
 "cells": [
  {
   "cell_type": "markdown",
   "id": "b77907eb",
   "metadata": {},
   "source": [
    "# Numpy"
   ]
  },
  {
   "cell_type": "markdown",
   "id": "8e04d658",
   "metadata": {},
   "source": [
    "Nama: Windy Mega Melani\n",
    "<br>\n",
    "Code: PYTN-KS04-003\n",
    "<br>\n",
    "Python for Data Science"
   ]
  },
  {
   "cell_type": "code",
   "execution_count": 1,
   "id": "cabb4f8a",
   "metadata": {},
   "outputs": [],
   "source": [
    "import numpy as np"
   ]
  },
  {
   "cell_type": "code",
   "execution_count": 2,
   "id": "ad8add57",
   "metadata": {},
   "outputs": [
    {
     "data": {
      "text/plain": [
       "array([ 0,  2,  4,  6,  8, 10])"
      ]
     },
     "execution_count": 2,
     "metadata": {},
     "output_type": "execute_result"
    }
   ],
   "source": [
    "arrayA=np.array([0,2,4,6,8,10])\n",
    "arrayA"
   ]
  },
  {
   "cell_type": "code",
   "execution_count": 3,
   "id": "ab561278",
   "metadata": {},
   "outputs": [
    {
     "name": "stdout",
     "output_type": "stream",
     "text": [
      "[1, 2, 3, 4, 5, 1, 2, 3, 4, 5]\n",
      "[ 0  4  8 12 16 20]\n"
     ]
    }
   ],
   "source": [
    "listA=[1,2,3,4,5]\n",
    "mullist=listA*2\n",
    "mularray=arrayA*2\n",
    "\n",
    "print(mullist)\n",
    "print(mularray)"
   ]
  },
  {
   "cell_type": "code",
   "execution_count": 4,
   "id": "13e7cc3b",
   "metadata": {},
   "outputs": [
    {
     "data": {
      "text/plain": [
       "array([ 0,  2,  4,  6,  8, 10,  6, 12])"
      ]
     },
     "execution_count": 4,
     "metadata": {},
     "output_type": "execute_result"
    }
   ],
   "source": [
    "np.append(arrayA, [6,12])"
   ]
  },
  {
   "cell_type": "code",
   "execution_count": 5,
   "id": "2f94b364",
   "metadata": {},
   "outputs": [
    {
     "data": {
      "text/plain": [
       "array([0, 2, 4, 6, 8])"
      ]
     },
     "execution_count": 5,
     "metadata": {},
     "output_type": "execute_result"
    }
   ],
   "source": [
    "np.delete(arrayA, 5)"
   ]
  },
  {
   "cell_type": "code",
   "execution_count": 6,
   "id": "17936b0a",
   "metadata": {},
   "outputs": [
    {
     "data": {
      "text/plain": [
       "(6,)"
      ]
     },
     "execution_count": 6,
     "metadata": {},
     "output_type": "execute_result"
    }
   ],
   "source": [
    "arrayA.shape"
   ]
  },
  {
   "cell_type": "code",
   "execution_count": 7,
   "id": "7adeff64",
   "metadata": {},
   "outputs": [
    {
     "data": {
      "text/plain": [
       "(6, 1)"
      ]
     },
     "execution_count": 7,
     "metadata": {},
     "output_type": "execute_result"
    }
   ],
   "source": [
    "arrayB = np.expand_dims(arrayA, axis=1)\n",
    "arrayB.shape"
   ]
  },
  {
   "cell_type": "code",
   "execution_count": 8,
   "id": "1b0c73cb",
   "metadata": {},
   "outputs": [
    {
     "name": "stdout",
     "output_type": "stream",
     "text": [
      "[1 2 3]\n",
      "1\n",
      "[1 2]\n",
      "[2 3]\n",
      "[2 3]\n"
     ]
    }
   ],
   "source": [
    "data=np.array([1,2,3])\n",
    "\n",
    "print(data)\n",
    "print(data[0])\n",
    "print(data[0:2])\n",
    "print(data[1:])\n",
    "print(data[-2:])"
   ]
  },
  {
   "cell_type": "code",
   "execution_count": 9,
   "id": "34bafd07",
   "metadata": {},
   "outputs": [
    {
     "name": "stdout",
     "output_type": "stream",
     "text": [
      "[ 6  8 10]\n"
     ]
    }
   ],
   "source": [
    "print(arrayA[arrayA>=5])"
   ]
  },
  {
   "cell_type": "code",
   "execution_count": 10,
   "id": "fc42ea3f",
   "metadata": {},
   "outputs": [
    {
     "name": "stdout",
     "output_type": "stream",
     "text": [
      "[ 6  8 10]\n",
      "[ 6  8 10]\n"
     ]
    }
   ],
   "source": [
    "five_up = (arrayA >=5)\n",
    "print(arrayA[five_up])\n",
    "print(arrayA[arrayA>=5])"
   ]
  },
  {
   "cell_type": "code",
   "execution_count": 11,
   "id": "6b8764a8",
   "metadata": {},
   "outputs": [
    {
     "name": "stdout",
     "output_type": "stream",
     "text": [
      "[ 0  2  4  6  8 10]\n"
     ]
    }
   ],
   "source": [
    "dibagi_dua = arrayA[arrayA%2==0]\n",
    "print(dibagi_dua)"
   ]
  },
  {
   "cell_type": "code",
   "execution_count": 12,
   "id": "8aad5390",
   "metadata": {},
   "outputs": [
    {
     "name": "stdout",
     "output_type": "stream",
     "text": [
      "[ 4  6  8 10]\n"
     ]
    }
   ],
   "source": [
    "arrayC = arrayA[(arrayA>2) & (arrayA<11)]\n",
    "print(arrayC)"
   ]
  },
  {
   "cell_type": "code",
   "execution_count": 13,
   "id": "d6c96b21",
   "metadata": {},
   "outputs": [
    {
     "name": "stdout",
     "output_type": "stream",
     "text": [
      "[[ 1  2  3  4  5  6  7  8  9 10]\n",
      " [11 12 13 14 15 16 17 18 19 20]]\n"
     ]
    }
   ],
   "source": [
    "contoharray = np.array([[1,2,3,4,5,6,7,8,9,10],\n",
    "                       [11,12,13,14,15,16,17,18,19,20]])\n",
    "                        \n",
    "print(contoharray)"
   ]
  },
  {
   "cell_type": "code",
   "execution_count": 14,
   "id": "d3e2093b",
   "metadata": {},
   "outputs": [
    {
     "name": "stdout",
     "output_type": "stream",
     "text": [
      "[[ 1  2  3  4  5  6  7  8  9 10]\n",
      " [11 12 13 14 15 16 17 18 19 20]]\n"
     ]
    }
   ],
   "source": [
    "arrsplit=np.array([[1,2,3,4,5,6,7,8,9,10],\n",
    "                  [11,12,13,14,15,16,17,18,19,20]])\n",
    "\n",
    "print(arrsplit)"
   ]
  },
  {
   "cell_type": "code",
   "execution_count": 15,
   "id": "d22e256d",
   "metadata": {},
   "outputs": [
    {
     "data": {
      "text/plain": [
       "[array([[ 1,  2,  3,  4,  5],\n",
       "        [11, 12, 13, 14, 15]]),\n",
       " array([[ 6,  7,  8,  9, 10],\n",
       "        [16, 17, 18, 19, 20]])]"
      ]
     },
     "execution_count": 15,
     "metadata": {},
     "output_type": "execute_result"
    }
   ],
   "source": [
    "np.hsplit(arrsplit,2)"
   ]
  },
  {
   "cell_type": "code",
   "execution_count": 16,
   "id": "380b1491",
   "metadata": {},
   "outputs": [
    {
     "data": {
      "text/plain": [
       "array([ 0,  2,  4,  6,  8, 10])"
      ]
     },
     "execution_count": 16,
     "metadata": {},
     "output_type": "execute_result"
    }
   ],
   "source": [
    "arrayB=arrayA.view()\n",
    "arrayB"
   ]
  },
  {
   "cell_type": "code",
   "execution_count": 17,
   "id": "a6a4cefc",
   "metadata": {},
   "outputs": [
    {
     "data": {
      "text/plain": [
       "array([ 0,  2,  4,  6,  8, 10])"
      ]
     },
     "execution_count": 17,
     "metadata": {},
     "output_type": "execute_result"
    }
   ],
   "source": [
    "arrayC=arrayA.copy()\n",
    "arrayC"
   ]
  },
  {
   "cell_type": "code",
   "execution_count": 18,
   "id": "c33c11f2",
   "metadata": {},
   "outputs": [
    {
     "data": {
      "text/plain": [
       "30"
      ]
     },
     "execution_count": 18,
     "metadata": {},
     "output_type": "execute_result"
    }
   ],
   "source": [
    "arrayA.sum()"
   ]
  },
  {
   "cell_type": "code",
   "execution_count": 19,
   "id": "682086bf",
   "metadata": {},
   "outputs": [
    {
     "data": {
      "text/plain": [
       "array([3, 3])"
      ]
     },
     "execution_count": 19,
     "metadata": {},
     "output_type": "execute_result"
    }
   ],
   "source": [
    "arrayB=np.array([[1,1],[2,2]])\n",
    "arrayB.sum(axis=0)"
   ]
  },
  {
   "cell_type": "code",
   "execution_count": 20,
   "id": "8211ee63",
   "metadata": {},
   "outputs": [
    {
     "data": {
      "text/plain": [
       "array([1., 1., 1.])"
      ]
     },
     "execution_count": 20,
     "metadata": {},
     "output_type": "execute_result"
    }
   ],
   "source": [
    "ones = np.ones(3)\n",
    "ones"
   ]
  },
  {
   "cell_type": "code",
   "execution_count": 21,
   "id": "ce6d0573",
   "metadata": {},
   "outputs": [
    {
     "data": {
      "text/plain": [
       "array([2., 3., 4.])"
      ]
     },
     "execution_count": 21,
     "metadata": {},
     "output_type": "execute_result"
    }
   ],
   "source": [
    "data+ones"
   ]
  },
  {
   "cell_type": "code",
   "execution_count": 22,
   "id": "bb755b0c",
   "metadata": {},
   "outputs": [
    {
     "data": {
      "text/plain": [
       "array([1, 4, 9])"
      ]
     },
     "execution_count": 22,
     "metadata": {},
     "output_type": "execute_result"
    }
   ],
   "source": [
    "data*data"
   ]
  },
  {
   "cell_type": "code",
   "execution_count": 23,
   "id": "a79e5cc9",
   "metadata": {},
   "outputs": [
    {
     "data": {
      "text/plain": [
       "array([1., 1., 1.])"
      ]
     },
     "execution_count": 23,
     "metadata": {},
     "output_type": "execute_result"
    }
   ],
   "source": [
    "data/data"
   ]
  },
  {
   "cell_type": "code",
   "execution_count": 24,
   "id": "45f2efb5",
   "metadata": {},
   "outputs": [
    {
     "data": {
      "text/plain": [
       "array([2, 4, 6])"
      ]
     },
     "execution_count": 24,
     "metadata": {},
     "output_type": "execute_result"
    }
   ],
   "source": [
    "data*2"
   ]
  },
  {
   "cell_type": "code",
   "execution_count": 25,
   "id": "bea886de",
   "metadata": {},
   "outputs": [
    {
     "data": {
      "text/plain": [
       "1"
      ]
     },
     "execution_count": 25,
     "metadata": {},
     "output_type": "execute_result"
    }
   ],
   "source": [
    "data.min()"
   ]
  },
  {
   "cell_type": "code",
   "execution_count": 26,
   "id": "37176e24",
   "metadata": {},
   "outputs": [
    {
     "data": {
      "text/plain": [
       "0.816496580927726"
      ]
     },
     "execution_count": 26,
     "metadata": {},
     "output_type": "execute_result"
    }
   ],
   "source": [
    "data.std()"
   ]
  },
  {
   "cell_type": "code",
   "execution_count": 27,
   "id": "f87778d8",
   "metadata": {},
   "outputs": [
    {
     "name": "stdout",
     "output_type": "stream",
     "text": [
      "[[1 2 3]\n",
      " [4 5 6]]\n",
      "(2, 3)\n",
      "[[ 7  8]\n",
      " [ 9 10]\n",
      " [11 12]]\n",
      "(3, 2)\n"
     ]
    }
   ],
   "source": [
    "a1=np.array([[1,2,3],[4,5,6]])\n",
    "print(a1)\n",
    "print(a1.shape)\n",
    "\n",
    "a2=np.array([[7,8],[9,10],[11,12]])\n",
    "print(a2)\n",
    "print(a2.shape)"
   ]
  },
  {
   "cell_type": "code",
   "execution_count": 28,
   "id": "a67a18f3",
   "metadata": {},
   "outputs": [
    {
     "data": {
      "text/plain": [
       "array([[ 58,  64],\n",
       "       [139, 154]])"
      ]
     },
     "execution_count": 28,
     "metadata": {},
     "output_type": "execute_result"
    }
   ],
   "source": [
    "np.dot(a1,a2)"
   ]
  },
  {
   "cell_type": "code",
   "execution_count": 29,
   "id": "8ca75250",
   "metadata": {},
   "outputs": [
    {
     "name": "stdout",
     "output_type": "stream",
     "text": [
      "[[1 4]\n",
      " [2 5]\n",
      " [3 6]]\n"
     ]
    }
   ],
   "source": [
    "print(a1.T)"
   ]
  },
  {
   "cell_type": "code",
   "execution_count": 30,
   "id": "7bbe3052",
   "metadata": {},
   "outputs": [
    {
     "name": "stdout",
     "output_type": "stream",
     "text": [
      "[[[0.33779891 0.70640419]\n",
      "  [0.58955765 0.47723813]\n",
      "  [0.74839835 0.50964871]]\n",
      "\n",
      " [[0.56214858 0.62495832]\n",
      "  [0.38420484 0.49406321]\n",
      "  [0.72366548 0.23041888]]\n",
      "\n",
      " [[0.8585747  0.33430326]\n",
      "  [0.590602   0.91251342]\n",
      "  [0.78713924 0.72049664]]\n",
      "\n",
      " [[0.26385671 0.6422374 ]\n",
      "  [0.59224096 0.94293567]\n",
      "  [0.56558015 0.13897518]]]\n"
     ]
    }
   ],
   "source": [
    "print(np.random.random((4,3,2)))"
   ]
  },
  {
   "cell_type": "code",
   "execution_count": 31,
   "id": "d4c4db94",
   "metadata": {},
   "outputs": [
    {
     "data": {
      "text/plain": [
       "array([1, 2, 3, 4, 5, 6])"
      ]
     },
     "execution_count": 31,
     "metadata": {},
     "output_type": "execute_result"
    }
   ],
   "source": [
    "a1.flatten()"
   ]
  }
 ],
 "metadata": {
  "kernelspec": {
   "display_name": "Python 3",
   "language": "python",
   "name": "python3"
  },
  "language_info": {
   "codemirror_mode": {
    "name": "ipython",
    "version": 3
   },
   "file_extension": ".py",
   "mimetype": "text/x-python",
   "name": "python",
   "nbconvert_exporter": "python",
   "pygments_lexer": "ipython3",
   "version": "3.8.8"
  }
 },
 "nbformat": 4,
 "nbformat_minor": 5
}
