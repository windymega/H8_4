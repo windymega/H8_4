{
 "cells": [
  {
   "cell_type": "markdown",
   "id": "d21e3571",
   "metadata": {},
   "source": [
    "# Function, Module, Package"
   ]
  },
  {
   "cell_type": "markdown",
   "id": "ae13950d",
   "metadata": {},
   "source": [
    "Nama: Windy Mega Melani\n",
    "<br>\n",
    "Code: PYTN-KS04-003\n",
    "<br>\n",
    "Python for Data Science"
   ]
  },
  {
   "cell_type": "markdown",
   "id": "315d60c2",
   "metadata": {},
   "source": [
    "## Function"
   ]
  },
  {
   "cell_type": "code",
   "execution_count": 1,
   "id": "aeff2458",
   "metadata": {},
   "outputs": [],
   "source": [
    "def fungsi(p,l):\n",
    "    \"Fungsi untuk menghitung luas\"\n",
    "    print(p*l)"
   ]
  },
  {
   "cell_type": "code",
   "execution_count": 2,
   "id": "5443c21a",
   "metadata": {},
   "outputs": [
    {
     "name": "stdout",
     "output_type": "stream",
     "text": [
      "420\n"
     ]
    }
   ],
   "source": [
    "fungsi(20,21)"
   ]
  },
  {
   "cell_type": "code",
   "execution_count": 3,
   "id": "e574fe72",
   "metadata": {},
   "outputs": [],
   "source": [
    "def printme(str):\n",
    "    \"str untuk string\"\n",
    "    print(str)\n",
    "    return"
   ]
  },
  {
   "cell_type": "code",
   "execution_count": 4,
   "id": "3a75b052",
   "metadata": {},
   "outputs": [
    {
     "name": "stdout",
     "output_type": "stream",
     "text": [
      "values inside the function:  [1, 2, 3, 4]\n",
      "values outside the function:  [10, 20, 30]\n"
     ]
    }
   ],
   "source": [
    "def changeme(mylist):\n",
    "    \"this changes a passed list into this function\"\n",
    "    mylist = [1,2,3,4];\n",
    "    print(\"values inside the function: \", mylist)\n",
    "    return\n",
    "\n",
    "mylist=[10,20,30];\n",
    "changeme(mylist);\n",
    "print(\"values outside the function: \", mylist)"
   ]
  },
  {
   "cell_type": "code",
   "execution_count": 8,
   "id": "ac4aeb6f",
   "metadata": {},
   "outputs": [
    {
     "ename": "TypeError",
     "evalue": "printme() missing 1 required positional argument: 'str'",
     "output_type": "error",
     "traceback": [
      "\u001b[1;31m---------------------------------------------------------------------------\u001b[0m",
      "\u001b[1;31mTypeError\u001b[0m                                 Traceback (most recent call last)",
      "\u001b[1;32m<ipython-input-8-dff51badd7a4>\u001b[0m in \u001b[0;36m<module>\u001b[1;34m\u001b[0m\n\u001b[0;32m      3\u001b[0m     \u001b[0mprint\u001b[0m\u001b[1;33m(\u001b[0m\u001b[0mstr\u001b[0m\u001b[1;33m)\u001b[0m\u001b[1;33m\u001b[0m\u001b[1;33m\u001b[0m\u001b[0m\n\u001b[0;32m      4\u001b[0m     \u001b[1;32mreturn\u001b[0m\u001b[1;33m;\u001b[0m\u001b[1;33m\u001b[0m\u001b[1;33m\u001b[0m\u001b[0m\n\u001b[1;32m----> 5\u001b[1;33m \u001b[0mprintme\u001b[0m\u001b[1;33m(\u001b[0m\u001b[1;33m)\u001b[0m\u001b[1;33m\u001b[0m\u001b[1;33m\u001b[0m\u001b[0m\n\u001b[0m",
      "\u001b[1;31mTypeError\u001b[0m: printme() missing 1 required positional argument: 'str'"
     ]
    }
   ],
   "source": [
    "def printme(str):\n",
    "    \"This prints a passed string into this function\"\n",
    "    print(str)\n",
    "    return;\n",
    "printme()"
   ]
  },
  {
   "cell_type": "code",
   "execution_count": 9,
   "id": "568ae821",
   "metadata": {},
   "outputs": [
    {
     "name": "stdout",
     "output_type": "stream",
     "text": [
      "Hacktiv8\n"
     ]
    }
   ],
   "source": [
    "def printme(str):\n",
    "    \"This prints a passed string into this function\"\n",
    "    print(str)\n",
    "    return;\n",
    "printme(str=\"Hacktiv8\")"
   ]
  },
  {
   "cell_type": "code",
   "execution_count": 10,
   "id": "c018c1fa",
   "metadata": {},
   "outputs": [
    {
     "name": "stdout",
     "output_type": "stream",
     "text": [
      "Name:  windy\n",
      "Age:  22\n"
     ]
    }
   ],
   "source": [
    "def printinfo(name,age):\n",
    "    \"This prints a passed string into this function\"\n",
    "    print(\"Name: \", name)\n",
    "    print(\"Age: \", age)\n",
    "    return;\n",
    "printinfo(age=22, name=\"windy\")"
   ]
  },
  {
   "cell_type": "code",
   "execution_count": 11,
   "id": "ca79a11e",
   "metadata": {},
   "outputs": [
    {
     "name": "stdout",
     "output_type": "stream",
     "text": [
      "Output is: \n",
      "10\n",
      "Output is: \n",
      "70\n",
      "60\n",
      "40\n",
      "test\n"
     ]
    }
   ],
   "source": [
    "def printinfo(arg1, *vartuple):\n",
    "    \"This prints a passed string into this function\"\n",
    "    print(\"Output is: \")\n",
    "    print(arg1)\n",
    "    for var in vartuple:\n",
    "        print(var)\n",
    "    return;\n",
    "printinfo(10)\n",
    "printinfo(70,60,40,\"test\")"
   ]
  },
  {
   "cell_type": "code",
   "execution_count": 12,
   "id": "7e611992",
   "metadata": {},
   "outputs": [
    {
     "name": "stdout",
     "output_type": "stream",
     "text": [
      "Value of total :  30\n",
      "Value of total :  50\n"
     ]
    }
   ],
   "source": [
    "total = lambda arg1, arg2: arg1 + arg2;\n",
    "\n",
    "def sum(arg1, arg2):\n",
    "    total = arg1 + arg2\n",
    "    \n",
    "print(\"Value of total : \", total(10,20))\n",
    "print(\"Value of total : \", total(20,30))"
   ]
  },
  {
   "cell_type": "code",
   "execution_count": 13,
   "id": "8d0d4244",
   "metadata": {},
   "outputs": [
    {
     "name": "stdout",
     "output_type": "stream",
     "text": [
      "Inside the function local total :  30\n",
      "Outside the function global total :  0\n"
     ]
    }
   ],
   "source": [
    "total = 0 \n",
    "\n",
    "def sum( arg1, arg2 ):\n",
    " total = arg1 + arg2; # Here total is local variable.\n",
    " print (\"Inside the function local total : \", total)\n",
    "\n",
    "sum( 10, 20 )\n",
    "print (\"Outside the function global total : \", total ) "
   ]
  },
  {
   "cell_type": "code",
   "execution_count": 14,
   "id": "864a5bc9",
   "metadata": {},
   "outputs": [
    {
     "data": {
      "text/plain": [
       "40"
      ]
     },
     "execution_count": 14,
     "metadata": {},
     "output_type": "execute_result"
    }
   ],
   "source": [
    "jumlahkucing=20\n",
    "def jumlahhewan():\n",
    "    jumlahanjing=30\n",
    "    return jumlahkucing + jumlahanjing\n",
    "\n",
    "def jumlahkelinci():\n",
    "    return jumlahkucing + jumlahkucing\n",
    "\n",
    "jumlahhewan()\n",
    "jumlahkelinci()"
   ]
  },
  {
   "cell_type": "code",
   "execution_count": null,
   "id": "80bbd648",
   "metadata": {},
   "outputs": [],
   "source": []
  }
 ],
 "metadata": {
  "kernelspec": {
   "display_name": "Python 3",
   "language": "python",
   "name": "python3"
  },
  "language_info": {
   "codemirror_mode": {
    "name": "ipython",
    "version": 3
   },
   "file_extension": ".py",
   "mimetype": "text/x-python",
   "name": "python",
   "nbconvert_exporter": "python",
   "pygments_lexer": "ipython3",
   "version": "3.8.8"
  }
 },
 "nbformat": 4,
 "nbformat_minor": 5
}
