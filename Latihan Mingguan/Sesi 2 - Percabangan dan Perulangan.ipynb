{
 "cells": [
  {
   "cell_type": "markdown",
   "id": "6ee48951",
   "metadata": {},
   "source": [
    "# Percabangan dan Perulangan"
   ]
  },
  {
   "cell_type": "markdown",
   "id": "1315b366",
   "metadata": {},
   "source": [
    "Nama: Windy Mega Melani\n",
    "<br>\n",
    "Code: PYTN-KS04-003\n",
    "<br>\n",
    "Python for Data Science"
   ]
  },
  {
   "cell_type": "markdown",
   "id": "f31b5888",
   "metadata": {},
   "source": [
    "### Conditional : IF Statement"
   ]
  },
  {
   "cell_type": "code",
   "execution_count": 12,
   "id": "681ea23a",
   "metadata": {},
   "outputs": [],
   "source": [
    "x = 1\n",
    "y = 2"
   ]
  },
  {
   "cell_type": "markdown",
   "id": "49972bb3",
   "metadata": {},
   "source": [
    "#### Less Than"
   ]
  },
  {
   "cell_type": "code",
   "execution_count": 11,
   "id": "3867e34b",
   "metadata": {},
   "outputs": [
    {
     "name": "stdout",
     "output_type": "stream",
     "text": [
      "Correct\n"
     ]
    }
   ],
   "source": [
    "if x < y:\n",
    "    print('Correct')"
   ]
  },
  {
   "cell_type": "markdown",
   "id": "cf0151f9",
   "metadata": {},
   "source": [
    "#### Less Than or Equal to"
   ]
  },
  {
   "cell_type": "code",
   "execution_count": 13,
   "id": "fa0dfdf2",
   "metadata": {},
   "outputs": [
    {
     "name": "stdout",
     "output_type": "stream",
     "text": [
      "Correct\n"
     ]
    }
   ],
   "source": [
    "if x <= y:\n",
    "    print('Correct')"
   ]
  },
  {
   "cell_type": "markdown",
   "id": "ef6246a0",
   "metadata": {},
   "source": [
    "#### Greater Than"
   ]
  },
  {
   "cell_type": "code",
   "execution_count": 6,
   "id": "d813bc79",
   "metadata": {},
   "outputs": [],
   "source": [
    "if x > y:\n",
    "    print('Correct')"
   ]
  },
  {
   "cell_type": "markdown",
   "id": "f68e73db",
   "metadata": {},
   "source": [
    "#### Greater Than or Equal to"
   ]
  },
  {
   "cell_type": "code",
   "execution_count": 8,
   "id": "f0ab2e1e",
   "metadata": {},
   "outputs": [],
   "source": [
    "if x >= y:\n",
    "    print('Correct')"
   ]
  },
  {
   "cell_type": "markdown",
   "id": "25d48c90",
   "metadata": {},
   "source": [
    "#### Equals"
   ]
  },
  {
   "cell_type": "code",
   "execution_count": 9,
   "id": "9fff9c52",
   "metadata": {},
   "outputs": [],
   "source": [
    "if x == y:\n",
    "    print('Correct')"
   ]
  },
  {
   "cell_type": "markdown",
   "id": "41973f49",
   "metadata": {},
   "source": [
    "#### Not Equals"
   ]
  },
  {
   "cell_type": "code",
   "execution_count": 10,
   "id": "04a23206",
   "metadata": {},
   "outputs": [
    {
     "name": "stdout",
     "output_type": "stream",
     "text": [
      "Correct\n"
     ]
    }
   ],
   "source": [
    "if x != y:\n",
    "    print('Correct')"
   ]
  },
  {
   "cell_type": "markdown",
   "id": "35dc1183",
   "metadata": {},
   "source": [
    "### Indentation"
   ]
  },
  {
   "cell_type": "code",
   "execution_count": 14,
   "id": "d5982ff3",
   "metadata": {},
   "outputs": [
    {
     "name": "stdout",
     "output_type": "stream",
     "text": [
      "setelah kondisi\n"
     ]
    }
   ],
   "source": [
    "if 'win' in ['ndy','nda','ndu']:\n",
    "    print('ada')\n",
    "    print('benar')\n",
    "    print('...')\n",
    "    print('selesai.')\n",
    "print('setelah kondisi')"
   ]
  },
  {
   "cell_type": "code",
   "execution_count": 17,
   "id": "6cdce39a",
   "metadata": {},
   "outputs": [
    {
     "name": "stdout",
     "output_type": "stream",
     "text": [
      "ada\n",
      "benar\n",
      "...\n",
      "selesai.\n",
      "setelah kondisi\n"
     ]
    }
   ],
   "source": [
    "if 'nanda' in ['nanda', 'windy', 'menang']:\n",
    "    print('ada')\n",
    "    print('benar')\n",
    "    print('...')\n",
    "    print('selesai.')\n",
    "print('setelah kondisi')"
   ]
  },
  {
   "cell_type": "code",
   "execution_count": 19,
   "id": "6ebe4755",
   "metadata": {},
   "outputs": [
    {
     "name": "stdout",
     "output_type": "stream",
     "text": [
      "Cocok\n",
      "Tepat Sekali\n",
      "Yak, benar!\n",
      "Done\n",
      "Exit\n"
     ]
    }
   ],
   "source": [
    "if 'nanda' and 'windy' in ['nanda', 'windy', 'menang']:\n",
    "    print('Cocok')\n",
    "    \n",
    "    if 28>11:\n",
    "        print('Tepat Sekali')\n",
    "        \n",
    "    if 22==22:\n",
    "        print('Yak, benar!')\n",
    "        \n",
    "    print('Done')\n",
    "print('Exit')"
   ]
  },
  {
   "cell_type": "code",
   "execution_count": 21,
   "id": "3ef549cc",
   "metadata": {},
   "outputs": [
    {
     "name": "stdout",
     "output_type": "stream",
     "text": [
      "false\n"
     ]
    }
   ],
   "source": [
    "a=11\n",
    "b=28\n",
    "c=b-a\n",
    "\n",
    "if c<=a:\n",
    "    print('true')\n",
    "else:\n",
    "    print('false')"
   ]
  },
  {
   "cell_type": "markdown",
   "id": "342cdbb1",
   "metadata": {},
   "source": [
    "#### Else and Elif"
   ]
  },
  {
   "cell_type": "code",
   "execution_count": 22,
   "id": "4b23ec3d",
   "metadata": {},
   "outputs": [
    {
     "name": "stdout",
     "output_type": "stream",
     "text": [
      "hai win\n"
     ]
    }
   ],
   "source": [
    "nama = 'windy'\n",
    "\n",
    "if nama == 'nanda':\n",
    "    print('hai nan')\n",
    "elif nama == 'windy':\n",
    "    print('hai win')\n",
    "else:\n",
    "    print('idk')"
   ]
  },
  {
   "cell_type": "code",
   "execution_count": 26,
   "id": "75a8b014",
   "metadata": {},
   "outputs": [
    {
     "name": "stdout",
     "output_type": "stream",
     "text": [
      "banyak gaya!\n"
     ]
    }
   ],
   "source": [
    "hargaIphone = 10000000\n",
    "hargaMalu = 0\n",
    "uang = 1000000\n",
    "\n",
    "if uang > hargaIphone:\n",
    "    print(\"beli Iphone\")\n",
    "elif uang > hargaMalu + hargaIphone:\n",
    "    print(\"memang berduit\")\n",
    "else:\n",
    "    print(\"banyak gaya!\")"
   ]
  },
  {
   "cell_type": "markdown",
   "id": "1e126234",
   "metadata": {},
   "source": [
    "#### One-Line If Statements"
   ]
  },
  {
   "cell_type": "code",
   "execution_count": 30,
   "id": "04367212",
   "metadata": {},
   "outputs": [
    {
     "name": "stdout",
     "output_type": "stream",
     "text": [
      "yes\n",
      "yes\n",
      "you are right\n"
     ]
    }
   ],
   "source": [
    "if 'n' in 'nanda': print('yes'); print('yes'); print('you are right')"
   ]
  },
  {
   "cell_type": "code",
   "execution_count": 31,
   "id": "2deb9a91",
   "metadata": {},
   "outputs": [
    {
     "name": "stdout",
     "output_type": "stream",
     "text": [
      "yap\n",
      "tanggal\n",
      "spesial\n"
     ]
    }
   ],
   "source": [
    "x=22\n",
    "if x == 1: print('bukan');print('tanggal');print('spesial')\n",
    "elif x == 22: print('yap');print('tanggal');print('spesial')\n",
    "else: print('entah');print('tak tahu')"
   ]
  },
  {
   "cell_type": "markdown",
   "id": "a5abf4b4",
   "metadata": {},
   "source": [
    "### Conditional Expressions : Ternary Operator"
   ]
  },
  {
   "cell_type": "code",
   "execution_count": 33,
   "id": "03864d5a",
   "metadata": {},
   "outputs": [
    {
     "name": "stdout",
     "output_type": "stream",
     "text": [
      "Kita belanja yuk!\n"
     ]
    }
   ],
   "source": [
    "diskon = False\n",
    "print(\"Kita belanja\", \"yuk!\" if not diskon else \"Gak ah, mahal\")"
   ]
  },
  {
   "cell_type": "code",
   "execution_count": 35,
   "id": "5d26c655",
   "metadata": {},
   "outputs": [
    {
     "name": "stdout",
     "output_type": "stream",
     "text": [
      "Gak ah, mahal\n"
     ]
    }
   ],
   "source": [
    "diskon = True\n",
    "print(\"Kita belanja yuk!\" if not diskon else \"Gak ah, mahal\")"
   ]
  },
  {
   "cell_type": "code",
   "execution_count": 36,
   "id": "f494a787",
   "metadata": {},
   "outputs": [
    {
     "data": {
      "text/plain": [
       "'yes'"
      ]
     },
     "execution_count": 36,
     "metadata": {},
     "output_type": "execute_result"
    }
   ],
   "source": [
    "'yes' if ('nanda' in ['windy','nanda','menang']) else 'no'"
   ]
  },
  {
   "cell_type": "code",
   "execution_count": 39,
   "id": "6723fedd",
   "metadata": {},
   "outputs": [
    {
     "name": "stdout",
     "output_type": "stream",
     "text": [
      "28\n"
     ]
    }
   ],
   "source": [
    "a=11\n",
    "b=28\n",
    "\n",
    "if a>b:\n",
    "    c=a\n",
    "else:\n",
    "    c=b\n",
    "    \n",
    "print(c)"
   ]
  },
  {
   "cell_type": "markdown",
   "id": "31944324",
   "metadata": {},
   "source": [
    "### Pass Statement"
   ]
  },
  {
   "cell_type": "code",
   "execution_count": 41,
   "id": "b587c54d",
   "metadata": {},
   "outputs": [
    {
     "ename": "IndentationError",
     "evalue": "expected an indented block (<ipython-input-41-0a506735ab83>, line 2)",
     "output_type": "error",
     "traceback": [
      "\u001b[1;36m  File \u001b[1;32m\"<ipython-input-41-0a506735ab83>\"\u001b[1;36m, line \u001b[1;32m2\u001b[0m\n\u001b[1;33m    print('Correct')\u001b[0m\n\u001b[1;37m    ^\u001b[0m\n\u001b[1;31mIndentationError\u001b[0m\u001b[1;31m:\u001b[0m expected an indented block\n"
     ]
    }
   ],
   "source": [
    "if True:\n",
    "print('Correct')"
   ]
  },
  {
   "cell_type": "code",
   "execution_count": 42,
   "id": "3e4e20ed",
   "metadata": {},
   "outputs": [
    {
     "name": "stdout",
     "output_type": "stream",
     "text": [
      "Correct\n"
     ]
    }
   ],
   "source": [
    "if True:\n",
    "    pass\n",
    "print('Correct')"
   ]
  },
  {
   "cell_type": "markdown",
   "id": "4bac2a2d",
   "metadata": {},
   "source": [
    "### While"
   ]
  },
  {
   "cell_type": "code",
   "execution_count": 45,
   "id": "8a02152e",
   "metadata": {},
   "outputs": [
    {
     "name": "stdout",
     "output_type": "stream",
     "text": [
      "Aku pasti jadi Data Scientist\n",
      "Aku pasti jadi Data Scientist\n",
      "Aku pasti jadi Data Scientist\n",
      "Aku pasti jadi Data Scientist\n",
      "Aku pasti jadi Data Scientist\n",
      "Aku pasti jadi Data Scientist\n",
      "Aku pasti jadi Data Scientist\n",
      "Aku pasti jadi Data Scientist\n",
      "Aku pasti jadi Data Scientist\n",
      "Aku pasti jadi Data Scientist\n"
     ]
    }
   ],
   "source": [
    "i = 1\n",
    "\n",
    "while i < 11:\n",
    "    print('Aku pasti jadi Data Scientist')\n",
    "    i += 1"
   ]
  },
  {
   "cell_type": "code",
   "execution_count": 48,
   "id": "c531824f",
   "metadata": {},
   "outputs": [
    {
     "name": "stdout",
     "output_type": "stream",
     "text": [
      "3\n",
      "2\n",
      "1\n"
     ]
    }
   ],
   "source": [
    "n = 4\n",
    "\n",
    "while n > 1:\n",
    "    n -=1\n",
    "    print(n)"
   ]
  },
  {
   "cell_type": "code",
   "execution_count": 54,
   "id": "84400598",
   "metadata": {},
   "outputs": [
    {
     "name": "stdout",
     "output_type": "stream",
     "text": [
      "1\n",
      "2\n",
      "3\n",
      "Exit\n"
     ]
    }
   ],
   "source": [
    "x = 0\n",
    "\n",
    "while x>=0:\n",
    "    x+=1\n",
    "    print(x)\n",
    "    if x == 3:\n",
    "        break\n",
    "print('Exit')"
   ]
  },
  {
   "cell_type": "markdown",
   "id": "707526ce",
   "metadata": {},
   "source": [
    "#### Else"
   ]
  },
  {
   "cell_type": "code",
   "execution_count": 58,
   "id": "901d7c9e",
   "metadata": {},
   "outputs": [
    {
     "name": "stdout",
     "output_type": "stream",
     "text": [
      "3\n",
      "2\n",
      "1\n",
      "Exit\n"
     ]
    }
   ],
   "source": [
    "x = 4\n",
    "while x > 1:\n",
    "    x-=1\n",
    "    print(x)\n",
    "else:\n",
    "    print('Exit')"
   ]
  },
  {
   "cell_type": "code",
   "execution_count": 63,
   "id": "38f401fb",
   "metadata": {},
   "outputs": [
    {
     "name": "stdout",
     "output_type": "stream",
     "text": [
      "1\n",
      "2\n",
      "3\n"
     ]
    }
   ],
   "source": [
    "x = 0\n",
    "while x >= 0:\n",
    "    x+=1\n",
    "    print(x)\n",
    "    if x==3:\n",
    "        break\n",
    "else:\n",
    "    print('Exit')"
   ]
  },
  {
   "cell_type": "markdown",
   "id": "d961b044",
   "metadata": {},
   "source": [
    "#### Nested While Loops"
   ]
  },
  {
   "cell_type": "code",
   "execution_count": 73,
   "id": "f8fe10b4",
   "metadata": {},
   "outputs": [
    {
     "name": "stdout",
     "output_type": "stream",
     "text": [
      "uti\n"
     ]
    }
   ],
   "source": [
    "age = 80\n",
    "gender = 'P'\n",
    "\n",
    "if age < 18:\n",
    "    if gender == 'L':\n",
    "        print('adek')\n",
    "    else:\n",
    "        print('kakak')\n",
    "elif age >= 18 and age < 65:\n",
    "    if gender =='L':\n",
    "        print('papa')\n",
    "    else:\n",
    "        print('mama')\n",
    "else: \n",
    "    if gender == 'L':\n",
    "        print('akung')\n",
    "    else:\n",
    "        print('uti')"
   ]
  },
  {
   "cell_type": "code",
   "execution_count": 74,
   "id": "d8a433c6",
   "metadata": {},
   "outputs": [
    {
     "name": "stdout",
     "output_type": "stream",
     "text": [
      "nanda\n",
      "=> menang\n",
      "=> banyak\n",
      "windy\n",
      "=> menang\n",
      "=> banyak\n"
     ]
    }
   ],
   "source": [
    "a = ['nanda', 'windy']\n",
    "\n",
    "while len(a):\n",
    "    print(a.pop(0))\n",
    "    \n",
    "    b = ['menang', 'banyak']\n",
    "    \n",
    "    while len(b):\n",
    "        print('=>', b.pop(0))"
   ]
  },
  {
   "cell_type": "code",
   "execution_count": 75,
   "id": "642bca16",
   "metadata": {},
   "outputs": [
    {
     "name": "stdout",
     "output_type": "stream",
     "text": [
      "nanda\n",
      "windy\n",
      "=> menang\n",
      "=> banyak\n"
     ]
    }
   ],
   "source": [
    "a = ['nanda', 'windy']\n",
    "\n",
    "while len(a):\n",
    "    print(a.pop(0))\n",
    "    \n",
    "b = ['menang', 'banyak']\n",
    "    \n",
    "while len(b):\n",
    "    print('=>', b.pop(0))"
   ]
  },
  {
   "cell_type": "code",
   "execution_count": 76,
   "id": "ba167257",
   "metadata": {},
   "outputs": [
    {
     "name": "stdout",
     "output_type": "stream",
     "text": [
      "nanda\n",
      "windy\n"
     ]
    }
   ],
   "source": [
    "a = ['nanda', 'windy']\n",
    "\n",
    "while len(a):\n",
    "    print(a.pop(0))"
   ]
  },
  {
   "cell_type": "code",
   "execution_count": 77,
   "id": "2a583872",
   "metadata": {},
   "outputs": [
    {
     "name": "stdout",
     "output_type": "stream",
     "text": [
      "=> menang\n",
      "=> banyak\n"
     ]
    }
   ],
   "source": [
    "b = ['menang', 'banyak']\n",
    "    \n",
    "while len(b):\n",
    "    print('=>', b.pop(0))"
   ]
  },
  {
   "cell_type": "markdown",
   "id": "586596ee",
   "metadata": {},
   "source": [
    "#### Contoh Penggunaan:"
   ]
  },
  {
   "cell_type": "code",
   "execution_count": 103,
   "id": "b8d6e9f2",
   "metadata": {},
   "outputs": [
    {
     "name": "stdout",
     "output_type": "stream",
     "text": [
      "Masukkan Suhu untuk dikonversi, eg. 45F, 120C: 82F\n",
      "82 Fahrenheit = 27.8 Celsius\n",
      "82 Fahrenheit = 300.9 Kelvin\n",
      "82 Fahrenheit = 22.2 Reamur\n"
     ]
    }
   ],
   "source": [
    "suhu = input(\"Masukkan Suhu untuk dikonversi, eg. 45F, 120C: \")\n",
    "drjt = int(suhu[:-1])\n",
    "inputan = suhu[-1]\n",
    "\n",
    "if inputan.upper() == \"C\":\n",
    "  hasil1 = float((9 * drjt) / 5 + 32)\n",
    "  hasil2 = float(drjt + 273.15)\n",
    "  hasil3 = float(4/5 * drjt)\n",
    "  jenisX = \"Celcius\"\n",
    "  jenis1 = \"Fahrenheit\"\n",
    "  jenis2 = \"Kelvin\"\n",
    "  jenis3 = \"Reamur\"\n",
    "                \n",
    "elif inputan.upper() == \"F\":\n",
    "  hasil1 = float((drjt - 32) * 5 / 9)\n",
    "  hasil2 = float(((drjt - 32) * 5 / 9) + 273.15)\n",
    "  hasil3 = float(4/9 * (drjt-32))\n",
    "  jenisX = \"Fahrenheit\"\n",
    "  jenis1 = \"Celsius\"\n",
    "  jenis2 = \"Kelvin\"\n",
    "  jenis3 = \"Reamur\"\n",
    "elif inputan.upper() == \"K\":\n",
    "  hasil1 = float(drjt - 273.15)\n",
    "  hasil2 = float(((drjt - 273.15) * 9 / 5)+32)\n",
    "  hasil3 = float(4/5 * (drjt-273))\n",
    "  jenisX = \"Kelvin\"\n",
    "  jenis1 = \"Celcius\"\n",
    "  jenis2 = \"Fahrenheit\"\n",
    "  jenis3 = \"Reamur\"\n",
    "elif inputan.upper() == \"R\":\n",
    "  hasil1 = float((5/4) * drjt)\n",
    "  hasil2 = float((9/4 * drjt) + 32)\n",
    "  hasil3 = float((5/4 * drjt) + 273)\n",
    "  jenisX = \"Reamur\"\n",
    "  jenis1 = \"Celcius\"\n",
    "  jenis2 = \"Fahrenheit\"\n",
    "  jenis3 = \"Kelvin\"\n",
    "else:\n",
    "   print(\"Inputan tidak sesuai!! Perhatikan Penulisan Input\")\n",
    "\n",
    "print(drjt,jenisX,\"=\",\"{:.1f}\".format(hasil1),jenis1)\n",
    "print(drjt,jenisX,\"=\",\"{:.1f}\".format(hasil2),jenis2)\n",
    "print(drjt,jenisX,\"=\",\"{:.1f}\".format(hasil3),jenis3)"
   ]
  },
  {
   "cell_type": "code",
   "execution_count": 104,
   "id": "fb3db9de",
   "metadata": {},
   "outputs": [
    {
     "name": "stdout",
     "output_type": "stream",
     "text": [
      "Ketikkan keyword: stop\n",
      "stop\n"
     ]
    }
   ],
   "source": [
    "while True:\n",
    "    msg = input(\"Ketikkan keyword: \").lower()\n",
    "    print(msg)\n",
    "    if msg == \"stop\":\n",
    "        break"
   ]
  },
  {
   "cell_type": "code",
   "execution_count": null,
   "id": "ef067f82",
   "metadata": {},
   "outputs": [],
   "source": []
  }
 ],
 "metadata": {
  "kernelspec": {
   "display_name": "Python 3",
   "language": "python",
   "name": "python3"
  },
  "language_info": {
   "codemirror_mode": {
    "name": "ipython",
    "version": 3
   },
   "file_extension": ".py",
   "mimetype": "text/x-python",
   "name": "python",
   "nbconvert_exporter": "python",
   "pygments_lexer": "ipython3",
   "version": "3.8.8"
  }
 },
 "nbformat": 4,
 "nbformat_minor": 5
}
