{
 "cells": [
  {
   "cell_type": "markdown",
   "id": "1fe15bec",
   "metadata": {},
   "source": [
    "# Pengenalan Python"
   ]
  },
  {
   "cell_type": "markdown",
   "id": "877e3b5e",
   "metadata": {},
   "source": [
    "Nama: Windy Mega Melani\n",
    "<br>\n",
    "Code: PYTN-KS04-003\n",
    "<br>\n",
    "Python for Data Science"
   ]
  },
  {
   "cell_type": "markdown",
   "id": "0a441fe6",
   "metadata": {},
   "source": [
    "### Tipe Data"
   ]
  },
  {
   "cell_type": "markdown",
   "id": "e35c27cd",
   "metadata": {},
   "source": [
    "#### Integer"
   ]
  },
  {
   "cell_type": "code",
   "execution_count": 2,
   "id": "019c804b",
   "metadata": {},
   "outputs": [
    {
     "name": "stdout",
     "output_type": "stream",
     "text": [
      "127\n"
     ]
    }
   ],
   "source": [
    "print(123+4)"
   ]
  },
  {
   "cell_type": "code",
   "execution_count": 3,
   "id": "64173719",
   "metadata": {},
   "outputs": [
    {
     "name": "stdout",
     "output_type": "stream",
     "text": [
      "11\n",
      "<class 'int'>\n"
     ]
    }
   ],
   "source": [
    "print(11)\n",
    "print(type(11))"
   ]
  },
  {
   "cell_type": "markdown",
   "id": "764aa382",
   "metadata": {},
   "source": [
    "#### Float"
   ]
  },
  {
   "cell_type": "code",
   "execution_count": 4,
   "id": "0da6f1b8",
   "metadata": {},
   "outputs": [
    {
     "name": "stdout",
     "output_type": "stream",
     "text": [
      "2.2\n",
      "1.0\n",
      "0.1\n",
      "2000.0\n",
      "0.00042\n",
      "<class 'float'>\n"
     ]
    }
   ],
   "source": [
    "print(2.2)\n",
    "print(1.)\n",
    "print(.1)\n",
    "print(.2e4)\n",
    "print(4.2e-4)\n",
    "print(type(2.2))"
   ]
  },
  {
   "cell_type": "markdown",
   "id": "4694e651",
   "metadata": {},
   "source": [
    "#### String"
   ]
  },
  {
   "cell_type": "code",
   "execution_count": 5,
   "id": "98db670f",
   "metadata": {},
   "outputs": [
    {
     "name": "stdout",
     "output_type": "stream",
     "text": [
      "windy\n",
      "<class 'str'>\n"
     ]
    }
   ],
   "source": [
    "print(\"windy\")\n",
    "print(type(\"windy\"))"
   ]
  },
  {
   "cell_type": "code",
   "execution_count": 6,
   "id": "25bc7648",
   "metadata": {},
   "outputs": [
    {
     "name": "stdout",
     "output_type": "stream",
     "text": [
      "\n",
      "\n"
     ]
    }
   ],
   "source": [
    "print('')\n",
    "print(\"\")"
   ]
  },
  {
   "cell_type": "markdown",
   "id": "79bd3c7a",
   "metadata": {},
   "source": [
    "#### Boolean"
   ]
  },
  {
   "cell_type": "code",
   "execution_count": 7,
   "id": "1e3701c3",
   "metadata": {},
   "outputs": [
    {
     "name": "stdout",
     "output_type": "stream",
     "text": [
      "<class 'bool'>\n",
      "<class 'bool'>\n"
     ]
    }
   ],
   "source": [
    "print(type(True))\n",
    "print(type(False))"
   ]
  },
  {
   "cell_type": "markdown",
   "id": "b33560bb",
   "metadata": {},
   "source": [
    "### Variabel"
   ]
  },
  {
   "cell_type": "code",
   "execution_count": 8,
   "id": "09b35e34",
   "metadata": {},
   "outputs": [
    {
     "name": "stdout",
     "output_type": "stream",
     "text": [
      "282600.0\n"
     ]
    }
   ],
   "source": [
    "r=300\n",
    "luas_lingkaran=(3.14*r*r)\n",
    "\n",
    "print(luas_lingkaran)"
   ]
  },
  {
   "cell_type": "code",
   "execution_count": 9,
   "id": "c090b5aa",
   "metadata": {},
   "outputs": [
    {
     "name": "stdout",
     "output_type": "stream",
     "text": [
      "nandawindy\n",
      "nandanandawindywindy\n"
     ]
    }
   ],
   "source": [
    "a = \"nanda\"\n",
    "b = \"windy\"\n",
    "\n",
    "print(a+b)\n",
    "print(a*2+b*2)"
   ]
  },
  {
   "cell_type": "code",
   "execution_count": 10,
   "id": "cafc220b",
   "metadata": {},
   "outputs": [
    {
     "name": "stdout",
     "output_type": "stream",
     "text": [
      "windyy\n",
      "nandaa\n"
     ]
    }
   ],
   "source": [
    "print('windy'+'y')\n",
    "print(\"nanda\"+\"a\")"
   ]
  },
  {
   "cell_type": "code",
   "execution_count": 11,
   "id": "f035f481",
   "metadata": {},
   "outputs": [
    {
     "name": "stdout",
     "output_type": "stream",
     "text": [
      "True\n",
      "False\n",
      "False\n",
      "True\n"
     ]
    }
   ],
   "source": [
    "a = \"nda\"\n",
    "b = \"ndy\"\n",
    "\n",
    "print(a in 'nanda')\n",
    "print(a in 'windy')\n",
    "print(b in 'nanda')\n",
    "print(b in 'windy')"
   ]
  },
  {
   "cell_type": "code",
   "execution_count": 12,
   "id": "4f167877",
   "metadata": {},
   "outputs": [
    {
     "name": "stdout",
     "output_type": "stream",
     "text": [
      "Nanda windy\n",
      "nanda windy\n",
      "NANDA WINDY\n",
      "Nanda Windy\n",
      "NANDA WINDY\n"
     ]
    }
   ],
   "source": [
    "a = \"nanda windy\"\n",
    "\n",
    "print(a.capitalize())\n",
    "print(a.lower())\n",
    "print(a.swapcase())\n",
    "print(a.title())\n",
    "print(a.upper())"
   ]
  },
  {
   "cell_type": "markdown",
   "id": "f2480b25",
   "metadata": {},
   "source": [
    "### List"
   ]
  },
  {
   "cell_type": "code",
   "execution_count": 13,
   "id": "5d584208",
   "metadata": {},
   "outputs": [
    {
     "data": {
      "text/plain": [
       "False"
      ]
     },
     "execution_count": 13,
     "metadata": {},
     "output_type": "execute_result"
    }
   ],
   "source": [
    "a = ['windy','mega','melani']\n",
    "b = ['nanda','aul','putri','amel']\n",
    "a==b"
   ]
  },
  {
   "cell_type": "code",
   "execution_count": 14,
   "id": "aadff475",
   "metadata": {},
   "outputs": [
    {
     "name": "stdout",
     "output_type": "stream",
     "text": [
      "windy\n",
      "mega\n",
      "melani\n",
      "\n",
      "['aul', 'putri']\n"
     ]
    }
   ],
   "source": [
    "print(a[0])\n",
    "print(a[1])\n",
    "print(a[-1])\n",
    "print('')\n",
    "print(b[1:3])"
   ]
  },
  {
   "cell_type": "code",
   "execution_count": 15,
   "id": "c1e991bb",
   "metadata": {},
   "outputs": [
    {
     "name": "stdout",
     "output_type": "stream",
     "text": [
      "['nanda', 'aul', 'putri', 'amel']\n",
      "['nanda', 'aul', 'putri', 'amel', 'egi', 'nabila']\n",
      "['nanda', 'aul', 'putri', 'amel', 'nanda', 'aul', 'putri', 'amel']\n"
     ]
    }
   ],
   "source": [
    "print(b)\n",
    "\n",
    "print(b + ['egi','nabila'])\n",
    "print(b*2)"
   ]
  },
  {
   "cell_type": "code",
   "execution_count": 16,
   "id": "c350fd87",
   "metadata": {},
   "outputs": [
    {
     "name": "stdout",
     "output_type": "stream",
     "text": [
      "['nanda', 'aul', 'putri', 'amel']\n",
      "4\n",
      "amel\n",
      "putri\n"
     ]
    }
   ],
   "source": [
    "print(b)\n",
    "\n",
    "print(len(b))\n",
    "print(min(b))\n",
    "print(max(b))"
   ]
  },
  {
   "cell_type": "markdown",
   "id": "e0461a84",
   "metadata": {},
   "source": [
    "### Tuple"
   ]
  },
  {
   "cell_type": "code",
   "execution_count": 17,
   "id": "c75dbb05",
   "metadata": {},
   "outputs": [
    {
     "name": "stdout",
     "output_type": "stream",
     "text": [
      "('windy', 'nanda', 'aul', 'putri', 'amel', 'egi')\n",
      "windy\n",
      "amel\n"
     ]
    }
   ],
   "source": [
    "t = ('windy','nanda','aul','putri','amel','egi')\n",
    "print(t)\n",
    "print(t[0])\n",
    "print(t[-2])"
   ]
  },
  {
   "cell_type": "code",
   "execution_count": 18,
   "id": "73e154d4",
   "metadata": {},
   "outputs": [
    {
     "data": {
      "text/plain": [
       "'matematika'"
      ]
     },
     "execution_count": 18,
     "metadata": {},
     "output_type": "execute_result"
    }
   ],
   "source": [
    "(x1,x2,x3,x4) = ('ipa','ips','matematika','agama')\n",
    "x3"
   ]
  },
  {
   "cell_type": "markdown",
   "id": "e3b46006",
   "metadata": {},
   "source": [
    "### Dictionary"
   ]
  },
  {
   "cell_type": "code",
   "execution_count": 19,
   "id": "314d8c7e",
   "metadata": {},
   "outputs": [],
   "source": [
    "kelas12 = {\n",
    "    'ipa1': 'iren',\n",
    "    'ipa2': 'haekal',\n",
    "    'ipa3': 'amel',\n",
    "    'ipa4': 'sharon',\n",
    "    'ipa5': 'windy'\n",
    "}"
   ]
  },
  {
   "cell_type": "code",
   "execution_count": 20,
   "id": "02c5ea75",
   "metadata": {},
   "outputs": [
    {
     "name": "stdout",
     "output_type": "stream",
     "text": [
      "iren\n",
      "amel\n"
     ]
    }
   ],
   "source": [
    "print(kelas12['ipa1'])\n",
    "print(kelas12['ipa3'])"
   ]
  },
  {
   "cell_type": "code",
   "execution_count": 21,
   "id": "991039df",
   "metadata": {},
   "outputs": [
    {
     "data": {
      "text/plain": [
       "{'ipa1': 'iren',\n",
       " 'ipa2': 'haekal',\n",
       " 'ipa3': 'amel',\n",
       " 'ipa4': 'sharon',\n",
       " 'ipa5': 'windy',\n",
       " 'ips1': 'dinda'}"
      ]
     },
     "execution_count": 21,
     "metadata": {},
     "output_type": "execute_result"
    }
   ],
   "source": [
    "kelas12['ips1']='dinda'\n",
    "kelas12"
   ]
  },
  {
   "cell_type": "code",
   "execution_count": 22,
   "id": "d110b898",
   "metadata": {},
   "outputs": [
    {
     "data": {
      "text/plain": [
       "{'ipa1': 'iren',\n",
       " 'ipa2': 'haekal',\n",
       " 'ipa3': 'amel',\n",
       " 'ipa4': 'sharon',\n",
       " 'ipa5': 'nanda',\n",
       " 'ips1': 'dinda'}"
      ]
     },
     "execution_count": 22,
     "metadata": {},
     "output_type": "execute_result"
    }
   ],
   "source": [
    "kelas12['ipa5']='nanda'\n",
    "kelas12"
   ]
  },
  {
   "cell_type": "code",
   "execution_count": 23,
   "id": "4f075e72",
   "metadata": {},
   "outputs": [
    {
     "data": {
      "text/plain": [
       "{'ipa1': 'iren',\n",
       " 'ipa2': 'haekal',\n",
       " 'ipa3': 'amel',\n",
       " 'ipa4': 'sharon',\n",
       " 'ipa5': 'nanda'}"
      ]
     },
     "execution_count": 23,
     "metadata": {},
     "output_type": "execute_result"
    }
   ],
   "source": [
    "del kelas12['ips1']\n",
    "kelas12"
   ]
  },
  {
   "cell_type": "code",
   "execution_count": 24,
   "id": "fbc8752a",
   "metadata": {},
   "outputs": [],
   "source": [
    "person={}\n",
    "type(person)\n",
    "\n",
    "person['nama'] = 'amel'\n",
    "person['umur'] = '21 tahun'\n",
    "person['status'] = 'single'"
   ]
  },
  {
   "cell_type": "code",
   "execution_count": 25,
   "id": "f81cdce4",
   "metadata": {},
   "outputs": [
    {
     "data": {
      "text/plain": [
       "{'nama': 'amel', 'umur': '21 tahun', 'status': 'single'}"
      ]
     },
     "execution_count": 25,
     "metadata": {},
     "output_type": "execute_result"
    }
   ],
   "source": [
    "person"
   ]
  },
  {
   "cell_type": "code",
   "execution_count": 26,
   "id": "875694da",
   "metadata": {},
   "outputs": [
    {
     "name": "stdout",
     "output_type": "stream",
     "text": [
      "dict_items([('a', 11), ('b', 22), ('c', 33)])\n",
      "dict_keys(['a', 'b', 'c'])\n",
      "dict_values([11, 22, 33])\n"
     ]
    }
   ],
   "source": [
    "x = {'a':11,'b':22,'c':33}\n",
    "print(x.items())\n",
    "print(x.keys())\n",
    "print(x.values())"
   ]
  },
  {
   "cell_type": "code",
   "execution_count": null,
   "id": "bef839d7",
   "metadata": {},
   "outputs": [],
   "source": []
  }
 ],
 "metadata": {
  "kernelspec": {
   "display_name": "Python 3",
   "language": "python",
   "name": "python3"
  },
  "language_info": {
   "codemirror_mode": {
    "name": "ipython",
    "version": 3
   },
   "file_extension": ".py",
   "mimetype": "text/x-python",
   "name": "python",
   "nbconvert_exporter": "python",
   "pygments_lexer": "ipython3",
   "version": "3.8.8"
  }
 },
 "nbformat": 4,
 "nbformat_minor": 5
}
